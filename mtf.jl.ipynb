{
 "cells": [
  {
   "cell_type": "code",
   "execution_count": 1,
   "metadata": {},
   "outputs": [
    {
     "name": "stdout",
     "output_type": "stream",
     "text": [
      "Functionality Check\n",
      "-> Test string: \n",
      "Man is the only creature that consumes without producing. He does not give milk, he does not lay eggs, he is too weak to pull the plough, he cannot run fast enough to catch rabbits. Yet he is lord of all the animals. He sets them to work, he gives back to them the bare minimum that will prevent them from starving, and the rest he keeps for himself.\n",
      "-> Decoded seq: \n",
      "Man is the only creature that consumes without producing. He does not give milk, he does not lay eggs, he is too weak to pull the plough, he cannot run fast enough to catch rabbits. Yet he is lord of all the animals. He sets them to work, he gives back to them the bare minimum that will prevent them from starving, and the rest he keeps for himself.\n",
      "\n",
      "Look Up Cost\n",
      "Total Cost Using MTF Algorithm: 4688\n",
      "Total Cost Using Original Access: 16438\n",
      "\n",
      "\u001b[37m\u001b[1mTest Summary:             | \u001b[22m\u001b[39m\u001b[32m\u001b[1mPass  \u001b[22m\u001b[39m\u001b[36m\u001b[1mTotal\u001b[22m\u001b[39m\n",
      "Successfully Decoded Test | \u001b[32m   1  \u001b[39m\u001b[36m    1\u001b[39m\n"
     ]
    },
    {
     "data": {
      "text/plain": [
       "Test.DefaultTestSet(\"Successfully Decoded Test\", Any[], 1, false)"
      ]
     },
     "execution_count": 1,
     "metadata": {},
     "output_type": "execute_result"
    }
   ],
   "source": [
    "using Test\n",
    "\n",
    "num = collect('0':'9')\n",
    "letter = collect('A':'z')\n",
    "pun = [' ','.',',','?','!','/', '-', '_', '\\n','\\t', ':', ';', '\"', '\\'' ]\n",
    "\n",
    "function encodeMTF(str::AbstractString, symtable::Vector{Char}=vcat(letter,pun,num))\n",
    "    function encode(ch::Char)\n",
    "        r = findfirst(x->x==ch, symtable)\n",
    "        deleteat!(symtable, r)\n",
    "        prepend!(symtable, ch)\n",
    "        r\n",
    "    end\n",
    "    [encode(ch) for ch in str]\n",
    "end\n",
    " \n",
    "function decodeMTF(arr::Vector{Int}, symtable::Vector{Char}=vcat(letter,pun,num))\n",
    "    function decode(i::Int)\n",
    "        r = symtable[i]\n",
    "        deleteat!(symtable, i)\n",
    "        prepend!(symtable, r)\n",
    "        r\n",
    "    end\n",
    "    join(decode(i) for i in arr)\n",
    "end\n",
    " \n",
    "function originalAccess(str::AbstractString, symtable::Vector{Char}=vcat(letter,pun,num))\n",
    "    function originalIndividualCost(ch::Char)\n",
    "        r = findfirst(x->x==ch, symtable)\n",
    "    end\n",
    "    [originalIndividualCost(ch) for ch in str]\n",
    "end\n",
    "\n",
    "\n",
    "\"\"\"\n",
    "Running\n",
    "\"\"\"\n",
    "testSequence = [\"Man is the only creature that consumes without producing. He does not give milk, he does not lay eggs, he is too weak to pull the plough, he cannot run fast enough to catch rabbits. Yet he is lord of all the animals. He sets them to work, he gives back to them the bare minimum that will prevent them from starving, and the rest he keeps for himself.\"]\n",
    "encodedSequence = encodeMTF.(testSequence)\n",
    "decodedSequence = decodeMTF.(encodedSequence)\n",
    "originalSequence = originalAccess.(testSequence)\n",
    "\n",
    "encodedCost = sum(encodedSequence[1])\n",
    "originalCost = sum(originalSequence[1])\n",
    "\n",
    "println(\"Functionality Check\")\n",
    "for (test, dec) in zip(testSequence, decodedSequence)\n",
    "    println(\"-> Test string: \\n$test\\n-> Decoded seq: \\n$dec\\n\")\n",
    "end\n",
    "\n",
    "println(\"Look Up Cost\")\n",
    "println(\"Total Cost Using MTF Algorithm: $encodedCost\")\n",
    "println(\"Total Cost Using Original Access: $originalCost\\n\")\n",
    "println(\"Total Cost Using Original Access: $encodedCost/$originalCost\\n\")\n",
    "\n",
    "\n",
    "\"\"\"\n",
    "Unit test for compression algorithm\n",
    "\"\"\"\n",
    "@testset \"Successfully Decoded Test\" begin\n",
    "    for (seq, dec) in zip(testSequence, decodedSequence)\n",
    "        @test seq == dec\n",
    "    end\n",
    "end"
   ]
  }
 ],
 "metadata": {
  "kernelspec": {
   "display_name": "Julia 1.0.0",
   "language": "julia",
   "name": "julia-1.0"
  },
  "language_info": {
   "file_extension": ".jl",
   "mimetype": "application/julia",
   "name": "julia",
   "version": "1.0.0"
  }
 },
 "nbformat": 4,
 "nbformat_minor": 2
}
